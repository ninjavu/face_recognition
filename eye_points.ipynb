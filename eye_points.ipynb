{
 "cells": [
  {
   "cell_type": "code",
   "execution_count": 1,
   "metadata": {},
   "outputs": [],
   "source": [
    "import os\n",
    "import cv2\n",
    "import dlib\n",
    "import csv"
   ]
  },
  {
   "cell_type": "code",
   "execution_count": 2,
   "metadata": {},
   "outputs": [],
   "source": [
    "RIGHT_EYE_POINT = 36\n",
    "LEFT_EYE_POINT  = 45\n",
    "\n",
    "IMAGES_PATH = os.path.join('dataset')\n",
    "MODEL_PATH = os.path.join('model', 'shape_predictor_68_face_landmarks.dat')\n",
    "\n",
    "eyes_points = []"
   ]
  },
  {
   "cell_type": "code",
   "execution_count": 3,
   "metadata": {},
   "outputs": [],
   "source": [
    "detector = dlib.get_frontal_face_detector()\n",
    "predictor = dlib.shape_predictor(MODEL_PATH)"
   ]
  },
  {
   "cell_type": "code",
   "execution_count": 4,
   "metadata": {},
   "outputs": [],
   "source": [
    "for path, dirs, files in sorted(os.walk(IMAGES_PATH)):\n",
    "    for filename in files:\n",
    "        if not filename.endswith(\".pgm\"): \n",
    "            continue\n",
    "\n",
    "        image = cv2.imread(os.path.join(path, filename))\n",
    "        gray = cv2.cvtColor(image, cv2.COLOR_BGR2GRAY)\n",
    "\n",
    "        faces = detector(gray)\n",
    "\n",
    "        for face in faces:\n",
    "            landmarks = predictor(gray, face)\n",
    "\n",
    "            right_x = landmarks.part(RIGHT_EYE_POINT).x\n",
    "            right_y = landmarks.part(RIGHT_EYE_POINT).y\n",
    "\n",
    "            left_x = landmarks.part(LEFT_EYE_POINT).x\n",
    "            left_y = landmarks.part(LEFT_EYE_POINT).y\n",
    "\n",
    "        eyes_points.append({\n",
    "           'img': path + filename,\n",
    "           'left_eye_x': left_x,\n",
    "           'left_eye_y': left_y,\n",
    "           'right_eye_x': right_x,\n",
    "           'right_eye_y': right_y\n",
    "        })"
   ]
  },
  {
   "cell_type": "code",
   "execution_count": 5,
   "metadata": {},
   "outputs": [],
   "source": [
    "with open('eyes_points.csv', 'w') as file\n",
    "    writer = csv.DictWriter(file, eyes_points[0].keys())\n",
    "    writer.writeheader()\n",
    "    writer.writerows(eyes_points)"
   ]
  },
  {
   "cell_type": "code",
   "execution_count": null,
   "metadata": {},
   "outputs": [],
   "source": []
  }
 ],
 "metadata": {
  "kernelspec": {
   "display_name": "Python 3",
   "language": "python",
   "name": "python3"
  },
  "language_info": {
   "codemirror_mode": {
    "name": "ipython",
    "version": 3
   },
   "file_extension": ".py",
   "mimetype": "text/x-python",
   "name": "python",
   "nbconvert_exporter": "python",
   "pygments_lexer": "ipython3",
   "version": "3.7.5"
  }
 },
 "nbformat": 4,
 "nbformat_minor": 4
}
