{
 "cells": [
  {
   "cell_type": "code",
   "execution_count": 132,
   "metadata": {},
   "outputs": [],
   "source": [
    "import os\n",
    "import cv2\n",
    "import numpy as np\n",
    "import random"
   ]
  },
  {
   "cell_type": "code",
   "execution_count": 133,
   "metadata": {},
   "outputs": [],
   "source": [
    "IMAGES_PATH = os.path.join('dataset')"
   ]
  },
  {
   "cell_type": "code",
   "execution_count": 134,
   "metadata": {},
   "outputs": [],
   "source": [
    "trainset = []\n",
    "testset = []\n",
    "labels = []"
   ]
  },
  {
   "cell_type": "code",
   "execution_count": 135,
   "metadata": {},
   "outputs": [],
   "source": [
    "def mse(r):\n",
    "    deviation = trainset - r\n",
    "    mse_value = (deviation**2).mean(axis=1)\n",
    "    minimal_deviations = np.argmin(mse_value)\n",
    "    \n",
    "    return np.ceil(minimal_deviations / 5)"
   ]
  },
  {
   "cell_type": "code",
   "execution_count": 136,
   "metadata": {},
   "outputs": [
    {
     "name": "stdout",
     "output_type": "stream",
     "text": [
      "[1, 1, 1, 1, 1, 2, 2, 2, 2, 2, 3, 3, 3, 3, 3, 4, 4, 4, 4, 4, 5, 5, 5, 5, 5, 6, 6, 6, 6, 6, 7, 7, 7, 7, 7, 8, 8, 8, 8, 8, 9, 9, 9, 9, 9, 10, 10, 10, 10, 10, 11, 11, 11, 11, 11, 12, 12, 12, 12, 12, 13, 13, 13, 13, 13, 14, 14, 14, 14, 14, 15, 15, 15, 15, 15, 16, 16, 16, 16, 16, 17, 17, 17, 17, 17, 18, 18, 18, 18, 18, 19, 19, 19, 19, 19, 20, 20, 20, 20, 20, 21, 21, 21, 21, 21, 22, 22, 22, 22, 22, 23, 23, 23, 23, 23, 24, 24, 24, 24, 24, 25, 25, 25, 25, 25, 26, 26, 26, 26, 26, 27, 27, 27, 27, 27, 28, 28, 28, 28, 28, 29, 29, 29, 29, 29, 30, 30, 30, 30, 30, 31, 31, 31, 31, 31, 32, 32, 32, 32, 32, 33, 33, 33, 33, 33, 34, 34, 34, 34, 34, 35, 35, 35, 35, 35, 36, 36, 36, 36, 36, 37, 37, 37, 37, 37, 38, 38, 38, 38, 38, 39, 39, 39, 39, 39, 40, 40, 40, 40, 40]\n",
      "[ 1.  1.  1.  1.  1.  2.  2.  1.  2.  2.  3.  3.  3.  3.  3.  4.  4.  3.\n",
      "  4.  3.  5.  5.  5.  5.  5.  6. 11.  6.  6.  6.  7.  7.  6.  7.  7.  8.\n",
      "  8.  8.  8.  8.  9.  9.  9.  9.  9. 10. 10.  9. 10. 10. 11. 11. 10. 11.\n",
      " 10. 12. 12. 12. 12. 11. 13. 13. 26. 13. 13. 14. 14. 14. 14. 14. 15. 15.\n",
      " 14. 15. 15. 15. 15. 15. 15. 15. 17. 17. 17. 17. 17. 18. 18. 17. 17. 18.\n",
      " 19. 19. 19. 19. 19. 20. 20. 20. 19. 20. 21. 21. 21. 21. 21. 22. 22. 22.\n",
      " 22. 22. 23. 23. 23. 22. 23. 24. 24. 23. 24. 24. 24. 25. 25. 25. 25. 26.\n",
      " 26. 26. 26. 26. 27. 26. 26. 27. 27. 28. 28. 28. 28. 28. 28. 29. 29. 29.\n",
      " 29. 30. 30. 30. 29. 30. 31. 31. 31. 31. 31. 32. 32. 32. 32. 32. 33. 32.\n",
      " 33. 33. 33. 34. 34. 33. 34. 34. 35. 35. 34. 35. 35. 36. 36. 36. 35. 36.\n",
      " 36. 37. 37. 36. 37. 37. 38. 38. 38. 38. 39. 39. 39. 39. 39.  8. 40. 40.\n",
      " 40. 40.]\n",
      "Accuracy [Trainset percentage: 9]: 0.83\n"
     ]
    }
   ],
   "source": [
    "for folder_idx, (path, dirs, files) in enumerate(os.walk(IMAGES_PATH)):\n",
    "    for file_idx, filename in enumerate(files):\n",
    "        if filename.endswith(\".pgm\"):\n",
    "            image = cv2.imread(os.path.join(path, filename), cv2.IMREAD_GRAYSCALE)\n",
    "\n",
    "            # Refactor this:\n",
    "            if ((file_idx + 1) > 5):\n",
    "                testset.append(image.flatten())\n",
    "            else:\n",
    "                labels.append(folder_idx)\n",
    "                trainset.append(image.flatten())\n",
    "\n",
    "print(labels)\n",
    "\n",
    "print(np.apply_along_axis(mse, 1, testset))\n",
    "\n",
    "exact_matches = np.apply_along_axis(mse, 1, testset) == labels\n",
    "print('Accuracy [Trainset percentage: %s]: %s' % (trainset_percentage, np.sum(exact_matches) / len(labels)))\n",
    "\n",
    "\n"
   ]
  },
  {
   "cell_type": "code",
   "execution_count": 131,
   "metadata": {},
   "outputs": [],
   "source": [
    "# def main():\n",
    "#     percentages = range(5, 10)\n",
    "    \n",
    "#     for percentage in percentages:\n",
    "#         calculate(percentage)\n",
    "    \n",
    "#     for percentage in percentages:\n",
    "#         calculate(percentage, shuffle=True)"
   ]
  },
  {
   "cell_type": "code",
   "execution_count": 57,
   "metadata": {},
   "outputs": [],
   "source": [
    "# main()"
   ]
  },
  {
   "cell_type": "code",
   "execution_count": null,
   "metadata": {},
   "outputs": [],
   "source": []
  }
 ],
 "metadata": {
  "kernelspec": {
   "display_name": "Python 3",
   "language": "python",
   "name": "python3"
  },
  "language_info": {
   "codemirror_mode": {
    "name": "ipython",
    "version": 3
   },
   "file_extension": ".py",
   "mimetype": "text/x-python",
   "name": "python",
   "nbconvert_exporter": "python",
   "pygments_lexer": "ipython3",
   "version": "3.7.5"
  }
 },
 "nbformat": 4,
 "nbformat_minor": 4
}
