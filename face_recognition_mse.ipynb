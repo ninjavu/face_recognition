{
 "cells": [
  {
   "cell_type": "code",
   "execution_count": 6,
   "metadata": {},
   "outputs": [],
   "source": [
    "import os\n",
    "import cv2\n",
    "import numpy as np\n",
    "import random"
   ]
  },
  {
   "cell_type": "code",
   "execution_count": 7,
   "metadata": {},
   "outputs": [],
   "source": [
    "IMAGES_PATH = os.path.join('dataset')"
   ]
  },
  {
   "cell_type": "code",
   "execution_count": 8,
   "metadata": {},
   "outputs": [],
   "source": [
    "dataset = []\n",
    "trainset = []\n",
    "labels = []"
   ]
  },
  {
   "cell_type": "code",
   "execution_count": 9,
   "metadata": {},
   "outputs": [],
   "source": [
    "def mse(r, trainset_percentage):\n",
    "    deviation = dataset - r\n",
    "    mse_value = (deviation**2).mean(axis=1)\n",
    "    minimal_deviations = np.argmin(mse_value)\n",
    "    \n",
    "    return np.ceil(minimal_deviations / trainset_percentage)"
   ]
  },
  {
   "cell_type": "code",
   "execution_count": 13,
   "metadata": {},
   "outputs": [],
   "source": [
    "def calculate(trainset_percentage, shuffle=False):\n",
    "    dataset.clear()\n",
    "    trainset.clear()\n",
    "    labels.clear()\n",
    "    \n",
    "    for folder_idx, (path, dirs, files) in enumerate(os.walk(IMAGES_PATH)):\n",
    "        if shuffle:\n",
    "            random.shuffle(files)\n",
    "            \n",
    "        for file_idx, filename in enumerate(files):\n",
    "            if filename.endswith(\".pgm\"):\n",
    "                image = cv2.imread(os.path.join(path, filename))\n",
    "\n",
    "                # Refactor this:\n",
    "                if ((file_idx + 1) > trainset_percentage):\n",
    "                    labels.append(folder_idx)\n",
    "                    trainset.append(image.flatten())\n",
    "                else:\n",
    "                    dataset.append(image.flatten())\n",
    "\n",
    "    exact_matches = np.apply_along_axis(mse, 1, trainset, trainset_percentage) == labels\n",
    "\n",
    "    print('Accuracy [Shuffle: %s][Trainset percentage: %s]: %s' % (shuffle, trainset_percentage, np.sum(exact_matches) / len(labels)))\n",
    "    \n",
    "\n",
    "    "
   ]
  },
  {
   "cell_type": "code",
   "execution_count": 14,
   "metadata": {},
   "outputs": [],
   "source": [
    "def main():\n",
    "    percentages = range(5, 10)\n",
    "    \n",
    "    for percentage in percentages:\n",
    "        calculate(percentage)\n",
    "    \n",
    "    for percentage in percentages:\n",
    "        calculate(percentage, shuffle=True)"
   ]
  },
  {
   "cell_type": "code",
   "execution_count": 15,
   "metadata": {},
   "outputs": [
    {
     "name": "stdout",
     "output_type": "stream",
     "text": [
      "Accuracy [Shuffle: False][Trainset percentage: 5]: 0.83\n",
      "Accuracy [Shuffle: False][Trainset percentage: 6]: 0.85\n",
      "Accuracy [Shuffle: False][Trainset percentage: 7]: 0.85\n",
      "Accuracy [Shuffle: False][Trainset percentage: 8]: 0.9125\n",
      "Accuracy [Shuffle: False][Trainset percentage: 9]: 0.975\n",
      "Accuracy [Shuffle: True][Trainset percentage: 5]: 0.74\n",
      "Accuracy [Shuffle: True][Trainset percentage: 6]: 0.79375\n",
      "Accuracy [Shuffle: True][Trainset percentage: 7]: 0.8916666666666667\n",
      "Accuracy [Shuffle: True][Trainset percentage: 8]: 0.9125\n",
      "Accuracy [Shuffle: True][Trainset percentage: 9]: 0.95\n"
     ]
    }
   ],
   "source": [
    "main()"
   ]
  },
  {
   "cell_type": "code",
   "execution_count": null,
   "metadata": {},
   "outputs": [],
   "source": []
  }
 ],
 "metadata": {
  "kernelspec": {
   "display_name": "Python 3",
   "language": "python",
   "name": "python3"
  },
  "language_info": {
   "codemirror_mode": {
    "name": "ipython",
    "version": 3
   },
   "file_extension": ".py",
   "mimetype": "text/x-python",
   "name": "python",
   "nbconvert_exporter": "python",
   "pygments_lexer": "ipython3",
   "version": "3.7.5"
  }
 },
 "nbformat": 4,
 "nbformat_minor": 4
}
